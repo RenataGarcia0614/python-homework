{
 "cells": [
  {
   "cell_type": "code",
   "execution_count": 1,
   "metadata": {},
   "outputs": [],
   "source": [
    "# Your task is to create a Python script that analyzes the records to calculate each of the following: OBJECTIVE \n",
    "\n",
    "\n",
    "# The total number of months included in the dataset. VARIABLES \n",
    "\n",
    "\n",
    "# The net total amount of Profit/Losses over the entire period.LIST \n",
    "\n",
    "\n",
    "# The average of the changes in Profit/Losses over the entire period.LIST \n",
    "\n",
    "\n",
    "# The greatest increase in profits (date and amount) over the entire period.\n",
    "\n",
    "\n",
    "# The greatest decrease in losses (date and amount) over the entire period."
   ]
  },
  {
   "cell_type": "code",
   "execution_count": 39,
   "metadata": {},
   "outputs": [],
   "source": [
    "#Dependencies (Importing specifc packages\n",
    "from pathlib import Path\n",
    "import csv\n",
    "#File i am working with #csv file is in the same folder \n",
    "budget_csv = Path('../Code_Check/budget_data.csv')\n",
    "output_file = Path('../Code_Check/Results.txt')\n",
    "#List that hold output # can i use a def function to hold the place\n",
    "months = []\n",
    "greatest_increase= ['',0]\n",
    "greatest_decrease=['',9999999999]\n",
    "rev_change =[]\n",
    "months_total = 0\n",
    "change = 0\n",
    "net_profit = 0 \n",
    "monthly_profit = 0 \n",
    "# inputing path and header\n",
    "with open (budget_csv, 'r',newline='') as csvfile:\n",
    "    csvreader = csv.reader(csvfile, delimiter =',')\n",
    "# taking account the header \n",
    "    header = next(csvreader)\n",
    "    first_row= next(csvreader)\n",
    "    total_net= int(first_row[1])\n",
    "    prev_net=int(first_row[1])\n",
    "# Start of analyze \n",
    "    for row in csvreader:\n",
    "        months_total += 1 \n",
    "        total_net+= int(row[1])\n",
    "        net_change= int(row[1])-prev_net\n",
    "        rev_change.append(net_change) \n",
    "        if net_change > greatest_increase[1]:\n",
    "            greatest_increase[0]= row[0]\n",
    "            greatest_increase[1] = net_change\n",
    "        if net_change < greatest_decrease[1]:\n",
    "            greatest_decrease[0]=row[0]\n",
    "            greatest_decrease[1] =net_change\n",
    "average= (sum(rev_change)/len(rev_change))\n",
    "            \n",
    "            \n",
    "with open(output_file,'w') as csvwriter:\n",
    "    csvwriter.write(f'total number of months:{months_total}\\n')\n",
    "    csvwriter.write(f'net total amount:{total_net}\\n')\n",
    "    csvwriter.write(f'average:{average}\\n')\n",
    "    csvwriter.write(f'Greatest Increase: {greatest_increase}\\n')\n",
    "    csvwriter.write(f'Greatest Decrease: {greatest_decrease}\\n')"
   ]
  },
  {
   "cell_type": "code",
   "execution_count": null,
   "metadata": {},
   "outputs": [],
   "source": []
  }
 ],
 "metadata": {
  "kernelspec": {
   "display_name": "Python 3",
   "language": "python",
   "name": "python3"
  },
  "language_info": {
   "codemirror_mode": {
    "name": "ipython",
    "version": 3
   },
   "file_extension": ".py",
   "mimetype": "text/x-python",
   "name": "python",
   "nbconvert_exporter": "python",
   "pygments_lexer": "ipython3",
   "version": "3.7.7"
  }
 },
 "nbformat": 4,
 "nbformat_minor": 4
}
